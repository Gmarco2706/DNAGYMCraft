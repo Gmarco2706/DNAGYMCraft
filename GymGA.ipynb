{
  "nbformat": 4,
  "nbformat_minor": 0,
  "metadata": {
    "colab": {
      "provenance": [],
      "include_colab_link": true
    },
    "kernelspec": {
      "name": "python3",
      "display_name": "Python 3"
    },
    "language_info": {
      "name": "python"
    }
  },
  "cells": [
    {
      "cell_type": "markdown",
      "metadata": {
        "id": "view-in-github",
        "colab_type": "text"
      },
      "source": [
        "<a href=\"https://colab.research.google.com/github/Gmarco2706/DNAGYMCraft/blob/main/GymGA.ipynb\" target=\"_parent\"><img src=\"https://colab.research.google.com/assets/colab-badge.svg\" alt=\"Open In Colab\"/></a>"
      ]
    },
    {
      "cell_type": "code",
      "source": [
        "import pandas as pd\n",
        "import numpy as np\n",
        "import random\n",
        "import matplotlib.pyplot as plt\n",
        "\n",
        "# Caricamento del nuovo dataset\n",
        "gym_dataset2 = pd.read_csv('gym_dataset2.csv')\n",
        "\n",
        "gym_dataset2"
      ],
      "metadata": {
        "id": "bbXrFUPAu2vl"
      },
      "execution_count": null,
      "outputs": []
    },
    {
      "cell_type": "code",
      "source": [
        "print(gym_dataset2.columns)"
      ],
      "metadata": {
        "id": "u7GlWV9uxprv"
      },
      "execution_count": null,
      "outputs": []
    },
    {
      "cell_type": "code",
      "execution_count": null,
      "metadata": {
        "id": "zJXsEvtftH1t"
      },
      "outputs": [],
      "source": [
        "#input\n",
        "livello_di_abilita = input(\"Inserisci il tuo livello di abilità (Principiante/Intermedio/Esperto): \")\n",
        "luogo_di_allenamento = input(\"Ti alleni in palestra o a casa? (Palestra/Casa): \")\n",
        "\n",
        "fitness_storico = []"
      ]
    },
    {
      "cell_type": "markdown",
      "source": [
        "\n",
        "<h1>Creazione e inizializzazione della popolazione </h1>\n",
        "\n",
        "<p>\n",
        "creiamo una popolazione iniziale di schede di allenamento, ciascuna con una struttura che include giorni settimanali e esercizi casuali selezionati dal dataset. La funzione <b>generate_random_workout</b> genera una scheda di allenamento casuale con 7 esercizi rispettando il vincolo di avere un esercizio di stretching e di avere un max di 7 esercizi al giorno compreso lo stretching. La funzione <b>generate_initial_population</b> crea una popolazione di schede di allenamento settimanali per gli individui. Alla fine stampiamo la prima scheda\n",
        "</p>"
      ],
      "metadata": {
        "id": "yWjWmA--k8AU"
      }
    },
    {
      "cell_type": "code",
      "source": [
        "#creazione della popolazione\n",
        "def generate_random_workout(data, max_exercises=7, include_stretching=True):\n",
        "\n",
        "    workout = []\n",
        "    #estrazione gli esercizi di stretching dal dataset\n",
        "    stretching_exercises = data[data['Type_Stretching'] == 1]\n",
        "\n",
        "    #aggiunge un esercizio di stretching random (vincolo)\n",
        "    if include_stretching and not stretching_exercises.empty:\n",
        "        workout.append(stretching_exercises.sample(n=1).iloc[0])\n",
        "\n",
        "    remaining_slots = max_exercises - len(workout)\n",
        "    #estrazione degli esercizi che non sono di stretching\n",
        "    other_exercises = data[data['Type_Stretching'] == 0]\n",
        "    #filla tutti gli slot vuoti rimanenti (vincolo max 7 es)\n",
        "    workout += other_exercises.sample(n=min(len(other_exercises), remaining_slots)).to_dict('records')\n",
        "\n",
        "    return workout\n",
        "#genera la prima generazione di schede di allenamento\n",
        "def generate_initial_population(data, population_size=10, days_per_week=3):\n",
        "    population = []\n",
        "    #per ogni individuo crea schede di allenamento\n",
        "    for _ in range(population_size):\n",
        "        weekly_schedule = {}\n",
        "        for day in range(days_per_week):\n",
        "            daily_workout = generate_random_workout(data)\n",
        "            weekly_schedule[f\"Day {day + 1}\"] = daily_workout\n",
        "        population.append(weekly_schedule)\n",
        "\n",
        "    return population\n",
        "\n",
        "# Generiamo una popolazione iniziale di schede di allenamento\n",
        "initial_population = generate_initial_population(gym_dataset2)\n",
        "initial_population[0]  # Visualizziamo la scheda\n"
      ],
      "metadata": {
        "id": "m7ha4QIDgXJQ"
      },
      "execution_count": null,
      "outputs": []
    },
    {
      "cell_type": "markdown",
      "source": [
        "\n",
        "<h1>Funzione di Fitness</h1>\n",
        "\n",
        "\n",
        "<p>\n",
        "creiamo  la funzione di fitness che valuta una scheda di allenamento in base a vari criteri: (1)livello di abilità, (2)varietà di tipi di esercizi, (3)la varietà di gruppi muscolari coinvolti, (4)il luogo di allenamento, (5)feedback fornito.\n",
        "La funzione calcola un punteggio totale in base a questi criteri e lo restituisce come risultato.\n",
        "</p>"
      ],
      "metadata": {
        "id": "IyNdfoWxiOXi"
      }
    },
    {
      "cell_type": "code",
      "source": [
        "#funzione di fitness\n",
        "def fitness(scheda, livello_di_abilita, luogo_di_allenamento, pesi, feedback = None):\n",
        "    punteggio = 0\n",
        "    #creo i vari livelli di abilità associandoli alle colonne del dataset\n",
        "    livello_mapping = {\"Principiante\": \"Level_Beginner\", \"Intermedio\": \"Level_Intermediate\", \"Esperto\": \"Level_Expert\"}\n",
        "    livello_colonna = livello_mapping[livello_di_abilita]\n",
        "    #iniziamo a calcolare il punteggio basandoci sull'aderenza al livello di abolità dell'utente\n",
        "    for day in scheda:\n",
        "        for esercizio in scheda[day]:\n",
        "            if esercizio[livello_colonna] == 1:\n",
        "                punteggio += pesi['livello_aderenza']\n",
        "    #calcoliamo il punteggio sta volta sulla base della differenziazione degli esercizi e dei gruppi muscolari\n",
        "    tipi_esercizi = set()\n",
        "    gruppi_muscolari = set()\n",
        "    for day in scheda:\n",
        "        for esercizio in scheda[day]:\n",
        "            for tipo in [\"Type_Cardio\", \"Type_Strength\", \"Type_Stretching\"]:\n",
        "                if esercizio[tipo] == 1:\n",
        "                    tipi_esercizi.add(tipo)\n",
        "            for gruppo in [\"BodyPart_Abdominals\", \"BodyPart_Biceps\", \"BodyPart_Calves\", \"BodyPart_Chest\", \"BodyPart_Forearms\", \"BodyPart_Glutes\", \"BodyPart_Hamstrings\", \"BodyPart_Lats\", \"BodyPart_Lower Back\", \"BodyPart_Middle Back\", \"BodyPart_Neck\", \"BodyPart_Quadriceps\", \"BodyPart_Shoulders\", \"BodyPart_Traps\", \"BodyPart_Triceps\"]:\n",
        "                if esercizio.get(gruppo, 0) == 1:\n",
        "                    gruppi_muscolari.add(gruppo)\n",
        "\n",
        "    punteggio += len(tipi_esercizi) * pesi['varietà_tipo'] + len(gruppi_muscolari) * pesi['varietà_gruppo']\n",
        "    #andiamo a modificare il punteggio in base all'input del luogo di allenamento scegliendo gli esercizi senza attrezzi per chi si allena da casa\n",
        "    if luogo_di_allenamento == \"Casa\":\n",
        "        for day in scheda:\n",
        "            for esercizio in scheda[day]:\n",
        "                if esercizio[\"Equipment_None\"] == 1:\n",
        "                    punteggio += pesi['attrezzatura_casa']\n",
        "\n",
        "\n",
        "    # Modifica del punteggio in base al feedback\n",
        "    if feedback:\n",
        "        if feedback == \"Ottima\":\n",
        "            punteggio += 10  # Incoraggia schede simili\n",
        "        elif feedback == \"Troppo intensa\":\n",
        "            punteggio -= 5  # Penalizza schede troppo intense\n",
        "        elif feedback == \"Troppo facile\":\n",
        "            punteggio -= 6 #penalizza schede troppo facili\n",
        "\n",
        "    return punteggio\n"
      ],
      "metadata": {
        "id": "cXl1mmn_gZRb"
      },
      "execution_count": null,
      "outputs": []
    },
    {
      "cell_type": "markdown",
      "source": [
        "<h1> K-Tournament Selection </h1>\n",
        "\n",
        "<p>\n",
        "per la selezione degli individui abbiamo pensato di utilizzare il K-Tournament Selection. Creando una serie di tornei dove inseriamo 3 individui, alla fine selezioneremo i migliori individui  per farli diventare i genitori della prossima generazione. La probabilità di scelta è data dal valore di fitness di ogni individuo.\n",
        "</p>"
      ],
      "metadata": {
        "id": "DkcTOKpqH9Cn"
      }
    },
    {
      "cell_type": "code",
      "source": [
        "#selezione tramite K-Tournament selection\n",
        "def selezione_tornei(popolazione, valutazioni_fitness, numero_selezionati):\n",
        "    selezionati = []\n",
        "    for _ in range(numero_selezionati):\n",
        "        #selezioniamo K partecipanti casuali dove k= 3 insieme al loro valore di fitness\n",
        "        partecipanti_torneo = random.sample(list(zip(popolazione, valutazioni_fitness)), k=3)\n",
        "        #prendiamo il migliore di loro e lo selezioniamo\n",
        "        migliore = max(partecipanti_torneo, key=lambda individuo: individuo[1])[0]\n",
        "        selezionati.append(migliore)\n",
        "\n",
        "    return selezionati\n"
      ],
      "metadata": {
        "id": "mh8ECmhWIAUk"
      },
      "execution_count": null,
      "outputs": []
    },
    {
      "cell_type": "markdown",
      "source": [
        "<h1> One-Point Crossover </h1>\n",
        "\n",
        "<p>\n",
        "Creiamo un figlio vuoto, successivamente settiamo randomicamente un punto di crossover, creando una scheda di allenamento per il figlio che combini le due parti dei genitori prima e dopo il punto di crossover.\n",
        "</p>"
      ],
      "metadata": {
        "id": "CY6Iw-I7IH7l"
      }
    },
    {
      "cell_type": "code",
      "source": [
        "#Funzione per eseguire la crossover di due genitori\n",
        "def crossover(genitore1, genitore2):\n",
        "    figlio = {}\n",
        "    punto_crossover = random.randint(1, len(genitore1))\n",
        "\n",
        "    for i, (day, workout) in enumerate(genitore1.items()):\n",
        "        if i < punto_crossover:\n",
        "            #copiamo tutto quello che c'è prima del punto di crossover di entrambi i genitori\n",
        "            figlio[day] = workout\n",
        "        else:\n",
        "            figlio[day] = genitore2[day]\n",
        "\n",
        "    return figlio"
      ],
      "metadata": {
        "id": "OzhTBldYIGYZ"
      },
      "execution_count": null,
      "outputs": []
    },
    {
      "cell_type": "markdown",
      "source": [
        "<h1> Mutazione <h1>\n",
        "\n",
        "<p>\n",
        "Iteriamo i giorni e per ognuno di essi viene generato un numero casuale e se questo numero è minore del <b>tasso_di_mutazione</b> viene eseguita la mutazione. Quindi viene scambiato casualmente un esercizio nella scheda con un esercizio randomico del dataset\n",
        "</p>"
      ],
      "metadata": {
        "id": "834cMSFwIMTO"
      }
    },
    {
      "cell_type": "code",
      "source": [
        "#Funzione per eseguire una mutazione su una scheda di allenamento\n",
        "def mutazione(scheda, gym_dataset2, tasso_di_mutazione=0.1):\n",
        "    #Creaiamo una copia della scheda originale\n",
        "    nuova_scheda = scheda.copy()\n",
        "    #iteriamo i giorni, il tasso di mutazione definisce la probabilità di mutare l'allenamento e viene scelto a caso un esercizio da sostituire\n",
        "    for day, allenamento in nuova_scheda.items():\n",
        "        if random.random() < tasso_di_mutazione:\n",
        "            indice_esercizio = random.randint(0, len(allenamento) - 1)\n",
        "            nuovo_esercizio = gym_dataset2.sample(n=1).iloc[0].to_dict()\n",
        "            nuova_scheda[day][indice_esercizio] = nuovo_esercizio\n",
        "    return nuova_scheda"
      ],
      "metadata": {
        "id": "HnpL3IT7INmK"
      },
      "execution_count": null,
      "outputs": []
    },
    {
      "cell_type": "markdown",
      "source": [
        "<h1> Funzione dell'algoritmo genetico <h2>\n",
        "<p>\n",
        "viene generata una popolazione di schede, e iniziamo ad iterare su ogni generazione selezionando i genitori migliori per creare la next gen,\n",
        "in fine restituiamo la migliore scheda trovata\n",
        "</p>"
      ],
      "metadata": {
        "id": "SY9R7J7bJpF6"
      }
    },
    {
      "cell_type": "code",
      "source": [
        "def algoritmo_genetico(data, livello_di_abilita, luogo_di_allenamento, feedback=None, numero_generazioni=50, dimensione_popolazione=10, tasso_di_mutazione=0.1):\n",
        "    popolazione = generate_initial_population(data, population_size=dimensione_popolazione)\n",
        "    pesi_iniziali = {'livello_aderenza': 1.0, 'varietà_tipo': 1.0, 'varietà_gruppo': 1.0, 'attrezzatura_casa': 1.0}\n",
        "\n",
        "    fitness_generazione = []\n",
        "\n",
        "    for generazione in range(numero_generazioni):\n",
        "        valutazioni_fitness = [fitness(scheda, livello_di_abilita, luogo_di_allenamento, pesi_iniziali, feedback) for scheda in popolazione]\n",
        "\n",
        "\n",
        "        genitori = selezione_tornei(popolazione, valutazioni_fitness, numero_selezionati=len(popolazione) // 2)\n",
        "        nuova_generazione = []\n",
        "\n",
        "        while len(nuova_generazione) < dimensione_popolazione:\n",
        "            genitore1, genitore2 = random.sample(genitori, 2)\n",
        "            figlio = crossover(genitore1, genitore2)\n",
        "            figlio = mutazione(figlio, data, tasso_di_mutazione)\n",
        "            nuova_generazione.append(figlio)\n",
        "\n",
        "\n",
        "\n",
        "        popolazione = nuova_generazione\n",
        "        miglior_scheda = max(popolazione, key=lambda scheda: fitness(scheda, livello_di_abilita, luogo_di_allenamento, pesi_iniziali))\n",
        "        fitness_miglior_scheda = fitness(miglior_scheda, livello_di_abilita, luogo_di_allenamento, pesi_iniziali)\n",
        "        fitness_generazione.append(fitness_miglior_scheda)\n",
        "\n",
        "        print(f\"Generazione {generazione + 1}: Fitness Migliore = {fitness_miglior_scheda}\")\n",
        "\n",
        "    print(f\"Fitness Migliore alla Fine dell'Algoritmo: {fitness_generazione[-1]}\")\n",
        "    return miglior_scheda\n"
      ],
      "metadata": {
        "id": "m0KIdUnrJrqZ"
      },
      "execution_count": null,
      "outputs": []
    },
    {
      "cell_type": "markdown",
      "source": [
        "<h1> Stampe delle schede e feedback <h1>\n",
        "\n",
        "<p>\n",
        "stampiamo le schede e inseriamo un input di feedback per poi stampare altre schede modificate rispetto al feedback dato\n",
        "</p>"
      ],
      "metadata": {
        "id": "0a40lt3YKEe-"
      }
    },
    {
      "cell_type": "code",
      "source": [
        "# Visualizzazione della migliore scheda di allenamento\n",
        "pesi_iniziali = {'livello_aderenza': 1.0, 'varietà_tipo': 1.0, 'varietà_gruppo': 1.0, 'attrezzatura_casa': 1.0}\n",
        "miglior_scheda = algoritmo_genetico(gym_dataset2, livello_di_abilita, luogo_di_allenamento)\n",
        "print(\"Migliore Scheda di Allenamento Generata:\")\n",
        "for giorno, allenamento in miglior_scheda.items():\n",
        "    print(f\"\\n{giorno}:\")\n",
        "    for esercizio in allenamento:\n",
        "        print(esercizio['Title'])\n",
        "#input di feedback dell'utente che può dire come gli sembra la scheda scegliendo fra le opzioni Ottima Troppo intensa Troppo facile cercando di migliorare la scelta del GA\n",
        "feedback = input(\"\\nFornisci il tuo feedback sulla scheda di allenamento (es. 'Ottima', 'Troppo intensa', 'Troppo facile'): \")\n",
        "#creamo le schede contando il feedback\n",
        "miglior_scheda_con_feedback = algoritmo_genetico(gym_dataset2, livello_di_abilita, luogo_di_allenamento, feedback)\n",
        "\n",
        "print(\"Migliore Scheda di Allenamento Generata con Feedback:\")\n",
        "for giorno, allenamento in miglior_scheda_con_feedback.items():\n",
        "    print(f\"\\n{giorno}:\")\n",
        "    for esercizio in allenamento:\n",
        "        print(esercizio['Title'])\n",
        "punteggio_scheda_con_feedback = fitness(miglior_scheda_con_feedback, livello_di_abilita, luogo_di_allenamento, pesi_iniziali, feedback)\n",
        "print(f\"Punteggio della miglior scheda di allenamento con feedback: {punteggio_scheda_con_feedback}\")\n"
      ],
      "metadata": {
        "id": "x6RiaW3SKGVH"
      },
      "execution_count": null,
      "outputs": []
    }
  ]
}